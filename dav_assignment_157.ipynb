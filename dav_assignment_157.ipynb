{
  "nbformat": 4,
  "nbformat_minor": 0,
  "metadata": {
    "colab": {
      "provenance": []
    },
    "kernelspec": {
      "name": "python3",
      "display_name": "Python 3"
    },
    "language_info": {
      "name": "python"
    }
  },
  "cells": [
    {
      "cell_type": "code",
      "source": [
        "#importing necessary libraries and loading the dataset:"
      ],
      "metadata": {
        "id": "c2vBJj_q4Y6q"
      },
      "execution_count": null,
      "outputs": []
    },
    {
      "cell_type": "code",
      "source": [
        "import numpy as np\n",
        "import pandas as pd\n",
        "\n",
        "# Load dataset\n",
        "df = pd.read_csv(\"/assists-turnovers (1).csv\")\n",
        "\n",
        "# Display first few rows\n",
        "print(df.head())\n"
      ],
      "metadata": {
        "colab": {
          "base_uri": "https://localhost:8080/"
        },
        "id": "Nl4WyKpO4FqP",
        "outputId": "663486a1-62e3-49ed-d83d-edcade99c458"
      },
      "execution_count": null,
      "outputs": [
        {
          "output_type": "stream",
          "name": "stdout",
          "text": [
            "   Unnamed: 0  GP  Games played  GS  Games started  MPG  Minutes Per Game  \\\n",
            "0           0                19                  0                   21.3   \n",
            "1           1                19                  2                   18.1   \n",
            "2           2                20                  3                   23.6   \n",
            "3           3                18                  1                   14.8   \n",
            "4           4                19                  0                   13.7   \n",
            "\n",
            "   OREB  Offensive Rebounds  DREB  Defensive Rebounds  REB  Total Rebounds  \\\n",
            "0                       6.0                      31.0                 37.0   \n",
            "1                       4.0                      31.0                 35.0   \n",
            "2                       6.0                      30.0                 36.0   \n",
            "3                       5.0                      28.0                 33.0   \n",
            "4                       8.0                      26.0                 34.0   \n",
            "\n",
            "   RPG  Rebounds Per Game  AST  Total Assists  APG  Assists Per Game  \\\n",
            "0                     1.9                 NaN                    NaN   \n",
            "1                     1.8                 NaN                    NaN   \n",
            "2                     1.8                 NaN                    NaN   \n",
            "3                     1.8                 NaN                    NaN   \n",
            "4                     1.8                 NaN                    NaN   \n",
            "\n",
            "   TO  Turnovers  TOPG  Turnovers Per Game  A/TO  Assists Per Turnover  \\\n",
            "0            NaN                       NaN                         NaN   \n",
            "1            NaN                       NaN                         NaN   \n",
            "2            NaN                       NaN                         NaN   \n",
            "3            NaN                       NaN                         NaN   \n",
            "4            NaN                       NaN                         NaN   \n",
            "\n",
            "             Player Position Team  \n",
            "0       George Hill       PG  MIL  \n",
            "1  Danuel House Jr.       SF  PHI  \n",
            "2        Tyus Jones       PG  MEM  \n",
            "3       Moses Moody       SF   GS  \n",
            "4      Derrick Rose       PG   NY  \n"
          ]
        }
      ]
    },
    {
      "cell_type": "code",
      "source": [
        "#UNIT I — NumPy Operations"
      ],
      "metadata": {
        "id": "qHw2_bab4VjQ"
      },
      "execution_count": null,
      "outputs": []
    },
    {
      "cell_type": "code",
      "source": [
        "# Clean column names\n",
        "df.columns = df.columns.str.strip()\n",
        "\n",
        "# Rename necessary columns\n",
        "df = df.rename(columns={\n",
        "    'AST  Total Assists': 'Assists',\n",
        "    'TO  Turnovers': 'Turnovers'\n",
        "})\n",
        "\n",
        "# Check it's all good\n",
        "print(df[['Player', 'Assists', 'Turnovers']].head())\n"
      ],
      "metadata": {
        "colab": {
          "base_uri": "https://localhost:8080/"
        },
        "id": "JKlvxj5773-S",
        "outputId": "16efaa9d-4da4-4015-a91a-6aa91ea577f1"
      },
      "execution_count": null,
      "outputs": [
        {
          "output_type": "stream",
          "name": "stdout",
          "text": [
            "             Player  Assists  Turnovers\n",
            "0       George Hill      NaN        NaN\n",
            "1  Danuel House Jr.      NaN        NaN\n",
            "2        Tyus Jones      NaN        NaN\n",
            "3       Moses Moody      NaN        NaN\n",
            "4      Derrick Rose      NaN        NaN\n"
          ]
        }
      ]
    },
    {
      "cell_type": "code",
      "source": [
        "#fixed type arrays\n",
        "import numpy as np\n",
        "\n",
        "# Create array with fixed data type\n",
        "fixed_array = np.array([1, 2, 3, 4], dtype=np.int32)\n",
        "print(\"Fixed type array:\", fixed_array)\n"
      ],
      "metadata": {
        "colab": {
          "base_uri": "https://localhost:8080/"
        },
        "id": "JtxDuV6Z8OSd",
        "outputId": "bd2e96f1-eae1-46db-9f05-f30b7264c42d"
      },
      "execution_count": null,
      "outputs": [
        {
          "output_type": "stream",
          "name": "stdout",
          "text": [
            "Fixed type array: [1 2 3 4]\n"
          ]
        }
      ]
    },
    {
      "cell_type": "code",
      "source": [
        "#Creating Arrays\n",
        "zeros_array = np.zeros(5)\n",
        "ones_array = np.ones((2, 3))\n",
        "range_array = np.arange(0, 10, 2)\n",
        "\n",
        "print(\"Zeros:\", zeros_array)\n",
        "print(\"Ones:\", ones_array)\n",
        "print(\"Range:\", range_array)\n"
      ],
      "metadata": {
        "colab": {
          "base_uri": "https://localhost:8080/"
        },
        "id": "445YGkVP84XI",
        "outputId": "f1e9bf06-f6cd-429d-a8cf-074d2329f670"
      },
      "execution_count": null,
      "outputs": [
        {
          "output_type": "stream",
          "name": "stdout",
          "text": [
            "Zeros: [0. 0. 0. 0. 0.]\n",
            "Ones: [[1. 1. 1.]\n",
            " [1. 1. 1.]]\n",
            "Range: [0 2 4 6 8]\n"
          ]
        }
      ]
    },
    {
      "cell_type": "code",
      "source": [
        "#Array Indexing\n",
        "arr = np.array([10, 20, 30, 40, 50])\n",
        "print(\"Element at index 2:\", arr[2])\n"
      ],
      "metadata": {
        "colab": {
          "base_uri": "https://localhost:8080/"
        },
        "id": "UFs-PjiR88te",
        "outputId": "07d6a705-13bc-4658-e7e8-6ed3c7daaf74"
      },
      "execution_count": null,
      "outputs": [
        {
          "output_type": "stream",
          "name": "stdout",
          "text": [
            "Element at index 2: 30\n"
          ]
        }
      ]
    },
    {
      "cell_type": "code",
      "source": [
        "#Array Slicing\n",
        "print(\"Slice [1:4]:\", arr[1:4])\n"
      ],
      "metadata": {
        "colab": {
          "base_uri": "https://localhost:8080/"
        },
        "id": "-HYF_aeP9FCM",
        "outputId": "153cd6e0-8697-4917-8bd3-e570c6e796a0"
      },
      "execution_count": null,
      "outputs": [
        {
          "output_type": "stream",
          "name": "stdout",
          "text": [
            "Slice [1:4]: [20 30 40]\n"
          ]
        }
      ]
    },
    {
      "cell_type": "code",
      "source": [
        "#Reshaping Arrays\n",
        "reshaped = np.arange(12).reshape(3, 4)\n",
        "print(\"Reshaped (3x4):\\n\", reshaped)\n"
      ],
      "metadata": {
        "colab": {
          "base_uri": "https://localhost:8080/"
        },
        "id": "oBwlNH-w9LN3",
        "outputId": "edcf9aa7-3e9f-4c30-80dc-ba9c5b4ded39"
      },
      "execution_count": null,
      "outputs": [
        {
          "output_type": "stream",
          "name": "stdout",
          "text": [
            "Reshaped (3x4):\n",
            " [[ 0  1  2  3]\n",
            " [ 4  5  6  7]\n",
            " [ 8  9 10 11]]\n"
          ]
        }
      ]
    },
    {
      "cell_type": "code",
      "source": [
        "#Array Concatenation and Splitting\n",
        "a = np.array([1, 2, 3])\n",
        "b = np.array([4, 5, 6])\n",
        "concat = np.concatenate([a, b])\n",
        "split = np.split(np.arange(6), 3)\n",
        "\n",
        "print(\"Concatenated:\", concat)\n",
        "print(\"Split arrays:\", split)\n"
      ],
      "metadata": {
        "colab": {
          "base_uri": "https://localhost:8080/"
        },
        "id": "ylVGndkD9PPZ",
        "outputId": "d2438c32-2243-4f5e-fab8-842c367f128f"
      },
      "execution_count": null,
      "outputs": [
        {
          "output_type": "stream",
          "name": "stdout",
          "text": [
            "Concatenated: [1 2 3 4 5 6]\n",
            "Split arrays: [array([0, 1]), array([2, 3]), array([4, 5])]\n"
          ]
        }
      ]
    },
    {
      "cell_type": "code",
      "source": [
        "#Universal Functions\n",
        "x = np.array([1, 2, 3])\n",
        "y = np.array([4, 5, 6])\n",
        "\n",
        "print(\"Add:\", np.add(x, y))\n",
        "print(\"Multiply:\", np.multiply(x, y))\n"
      ],
      "metadata": {
        "colab": {
          "base_uri": "https://localhost:8080/"
        },
        "id": "Dxcu0VMt9UT4",
        "outputId": "963c2f49-b45f-4ead-c251-da103fe8c4bb"
      },
      "execution_count": null,
      "outputs": [
        {
          "output_type": "stream",
          "name": "stdout",
          "text": [
            "Add: [5 7 9]\n",
            "Multiply: [ 4 10 18]\n"
          ]
        }
      ]
    },
    {
      "cell_type": "code",
      "source": [
        "#Aggregations\n",
        "print(\"Sum:\", np.sum(x))\n",
        "print(\"Mean:\", np.mean(x))\n",
        "print(\"Max:\", np.max(x))\n"
      ],
      "metadata": {
        "colab": {
          "base_uri": "https://localhost:8080/"
        },
        "id": "boPlfFMX9YrJ",
        "outputId": "310d1a9f-ee56-4105-fa8b-e9f4b3b2f772"
      },
      "execution_count": null,
      "outputs": [
        {
          "output_type": "stream",
          "name": "stdout",
          "text": [
            "Sum: 6\n",
            "Mean: 2.0\n",
            "Max: 3\n"
          ]
        }
      ]
    },
    {
      "cell_type": "code",
      "source": [
        "#Broadcasting Rules\n",
        "arr = np.array([1, 2, 3])\n",
        "broadcasted = arr + 5\n",
        "print(\"Broadcast add:\", broadcasted)\n"
      ],
      "metadata": {
        "colab": {
          "base_uri": "https://localhost:8080/"
        },
        "id": "EFyML6Vd9cy9",
        "outputId": "f2d6e09e-1c1d-4be2-803d-73d48efb4435"
      },
      "execution_count": null,
      "outputs": [
        {
          "output_type": "stream",
          "name": "stdout",
          "text": [
            "Broadcast add: [6 7 8]\n"
          ]
        }
      ]
    },
    {
      "cell_type": "code",
      "source": [
        "#Comparisons\n",
        "compare = arr > 2\n",
        "print(\"Greater than 2:\", compare)\n"
      ],
      "metadata": {
        "colab": {
          "base_uri": "https://localhost:8080/"
        },
        "id": "DG0AuMNP9iW7",
        "outputId": "546840ec-72f9-40c8-e289-c716f0fd5a79"
      },
      "execution_count": null,
      "outputs": [
        {
          "output_type": "stream",
          "name": "stdout",
          "text": [
            "Greater than 2: [False False  True]\n"
          ]
        }
      ]
    },
    {
      "cell_type": "code",
      "source": [
        "#Fancy Indexing\n",
        "values = np.array([4, 1, 3, 2])\n",
        "indices = [3, 1, 0]\n",
        "print(\"Fancy indexing:\", values[indices])\n"
      ],
      "metadata": {
        "colab": {
          "base_uri": "https://localhost:8080/"
        },
        "id": "ivOpE1-E9oQC",
        "outputId": "40bdc44d-80f1-4bac-cf17-27a86a8dd8cd"
      },
      "execution_count": null,
      "outputs": [
        {
          "output_type": "stream",
          "name": "stdout",
          "text": [
            "Fancy indexing: [2 1 4]\n"
          ]
        }
      ]
    },
    {
      "cell_type": "code",
      "source": [
        "# Fast Sorting using np.sort and np.argsort\n",
        "print(\"Sorted:\", np.sort(values))\n",
        "print(\"Indices for sort:\", np.argsort(values))\n"
      ],
      "metadata": {
        "colab": {
          "base_uri": "https://localhost:8080/"
        },
        "id": "uaRweSXM9u71",
        "outputId": "5f49aef2-7311-4a11-a12d-ce9f64c79b59"
      },
      "execution_count": null,
      "outputs": [
        {
          "output_type": "stream",
          "name": "stdout",
          "text": [
            "Sorted: [1 2 3 4]\n",
            "Indices for sort: [1 3 2 0]\n"
          ]
        }
      ]
    },
    {
      "cell_type": "code",
      "source": [
        "#Partial Sorting\n",
        "arr = np.array([7, 2, 5, 1, 9, 3])\n",
        "top3 = np.partition(arr, -3)[-3:]\n",
        "print(\"Top 3 values (unsorted):\", top3)\n"
      ],
      "metadata": {
        "colab": {
          "base_uri": "https://localhost:8080/"
        },
        "id": "fzVOupqd9x0F",
        "outputId": "a05ed7dc-7176-418d-d637-348ce7f083a6"
      },
      "execution_count": null,
      "outputs": [
        {
          "output_type": "stream",
          "name": "stdout",
          "text": [
            "Top 3 values (unsorted): [5 7 9]\n"
          ]
        }
      ]
    },
    {
      "cell_type": "code",
      "source": [
        "#Structured Arrays\n",
        "data = np.array([('Alice', 5.0), ('Bob', 7.2)],\n",
        "                dtype=[('name', 'U10'), ('score', 'f4')])\n",
        "print(\"Structured:\", data)\n",
        "print(\"Bob's score:\", data[1]['score'])\n"
      ],
      "metadata": {
        "colab": {
          "base_uri": "https://localhost:8080/"
        },
        "id": "1DZbHEIg9208",
        "outputId": "ab389b8b-9b01-4b2a-86d0-ee5abd5db73b"
      },
      "execution_count": null,
      "outputs": [
        {
          "output_type": "stream",
          "name": "stdout",
          "text": [
            "Structured: [('Alice', 5. ) ('Bob', 7.2)]\n",
            "Bob's score: 7.2\n"
          ]
        }
      ]
    },
    {
      "cell_type": "code",
      "source": [
        "#Compound Types / Record Arrays\n",
        "record = np.rec.array([('Tom', 4.5), ('Jerry', 6.3)],\n",
        "                      dtype=[('name', 'U10'), ('grade', 'f4')])\n",
        "print(\"Record array:\", record)\n",
        "print(\"Tom's grade:\", record[0].grade)\n"
      ],
      "metadata": {
        "colab": {
          "base_uri": "https://localhost:8080/"
        },
        "id": "jgpHSGLD967t",
        "outputId": "2f62e39a-67e9-4c5e-d9c6-92ba242658b0"
      },
      "execution_count": null,
      "outputs": [
        {
          "output_type": "stream",
          "name": "stdout",
          "text": [
            "Record array: [('Tom', 4.5) ('Jerry', 6.3)]\n",
            "Tom's grade: 4.5\n"
          ]
        }
      ]
    },
    {
      "cell_type": "code",
      "source": [
        "#UNIT II: Pandas"
      ],
      "metadata": {
        "id": "eZxgE9Ll-aSS"
      },
      "execution_count": null,
      "outputs": []
    },
    {
      "cell_type": "code",
      "source": [
        "import pandas as pd\n",
        "\n",
        "# Create a simple Series\n",
        "players = pd.Series(['George Hill', 'Danuel House Jr.', 'Tyus Jones'])\n",
        "print(players)\n"
      ],
      "metadata": {
        "colab": {
          "base_uri": "https://localhost:8080/"
        },
        "id": "5oTx5d7--bOc",
        "outputId": "a7308870-fa59-4e27-ddb4-f6579c6040fc"
      },
      "execution_count": null,
      "outputs": [
        {
          "output_type": "stream",
          "name": "stdout",
          "text": [
            "0         George Hill\n",
            "1    Danuel House Jr.\n",
            "2          Tyus Jones\n",
            "dtype: object\n"
          ]
        }
      ]
    },
    {
      "cell_type": "code",
      "source": [
        "#DataFrame Object\n",
        "# Use your existing dataset\n",
        "df = pd.read_csv(\"/assists-turnovers (1).csv\")\n",
        "df.columns = df.columns.str.strip()\n",
        "df = df.rename(columns={'AST  Total Assists': 'Assists', 'TO  Turnovers': 'Turnovers'})\n",
        "\n",
        "# Display DataFrame\n",
        "print(df.head())\n"
      ],
      "metadata": {
        "colab": {
          "base_uri": "https://localhost:8080/"
        },
        "id": "7dsetNbg-dlc",
        "outputId": "3c51c7c5-e064-4a25-857d-a97382eb622f"
      },
      "execution_count": null,
      "outputs": [
        {
          "output_type": "stream",
          "name": "stdout",
          "text": [
            "   Unnamed: 0  GP  Games played  GS  Games started  MPG  Minutes Per Game  \\\n",
            "0           0                19                  0                   21.3   \n",
            "1           1                19                  2                   18.1   \n",
            "2           2                20                  3                   23.6   \n",
            "3           3                18                  1                   14.8   \n",
            "4           4                19                  0                   13.7   \n",
            "\n",
            "   OREB  Offensive Rebounds  DREB  Defensive Rebounds  REB  Total Rebounds  \\\n",
            "0                       6.0                      31.0                 37.0   \n",
            "1                       4.0                      31.0                 35.0   \n",
            "2                       6.0                      30.0                 36.0   \n",
            "3                       5.0                      28.0                 33.0   \n",
            "4                       8.0                      26.0                 34.0   \n",
            "\n",
            "   RPG  Rebounds Per Game  Assists  APG  Assists Per Game  Turnovers  \\\n",
            "0                     1.9      NaN                    NaN        NaN   \n",
            "1                     1.8      NaN                    NaN        NaN   \n",
            "2                     1.8      NaN                    NaN        NaN   \n",
            "3                     1.8      NaN                    NaN        NaN   \n",
            "4                     1.8      NaN                    NaN        NaN   \n",
            "\n",
            "   TOPG  Turnovers Per Game  A/TO  Assists Per Turnover            Player  \\\n",
            "0                       NaN                         NaN       George Hill   \n",
            "1                       NaN                         NaN  Danuel House Jr.   \n",
            "2                       NaN                         NaN        Tyus Jones   \n",
            "3                       NaN                         NaN       Moses Moody   \n",
            "4                       NaN                         NaN      Derrick Rose   \n",
            "\n",
            "  Position Team  \n",
            "0       PG  MIL  \n",
            "1       SF  PHI  \n",
            "2       PG  MEM  \n",
            "3       SF   GS  \n",
            "4       PG   NY  \n"
          ]
        }
      ]
    },
    {
      "cell_type": "code",
      "source": [
        "#Data Indexing & Selecting (Series)\n",
        "# Accessing Series values\n",
        "print(\"First player:\", df['Player'].iloc[0])\n"
      ],
      "metadata": {
        "colab": {
          "base_uri": "https://localhost:8080/"
        },
        "id": "Z0-IlITa-rxK",
        "outputId": "0a5bba65-eaa7-46b1-c836-2e95fe06b7d5"
      },
      "execution_count": null,
      "outputs": [
        {
          "output_type": "stream",
          "name": "stdout",
          "text": [
            "First player: George Hill\n"
          ]
        }
      ]
    },
    {
      "cell_type": "code",
      "source": [
        "#Data Indexing & Selecting (DataFrame)\n",
        "# Row selection with .iloc and .loc\n",
        "print(\"Third row:\\n\", df.iloc[2])\n",
        "print(\"Player and Team columns:\\n\", df[['Player', 'Team']].head())\n"
      ],
      "metadata": {
        "colab": {
          "base_uri": "https://localhost:8080/"
        },
        "id": "8BuJEBGM-21T",
        "outputId": "cf9eb33f-e161-4fd5-94a4-d80656963902"
      },
      "execution_count": null,
      "outputs": [
        {
          "output_type": "stream",
          "name": "stdout",
          "text": [
            "Third row:\n",
            " Unnamed: 0                             2\n",
            "GP  Games played                      20\n",
            "GS  Games started                      3\n",
            "MPG  Minutes Per Game               23.6\n",
            "OREB  Offensive Rebounds             6.0\n",
            "DREB  Defensive Rebounds            30.0\n",
            "REB  Total Rebounds                 36.0\n",
            "RPG  Rebounds Per Game               1.8\n",
            "Assists                              NaN\n",
            "APG  Assists Per Game                NaN\n",
            "Turnovers                            NaN\n",
            "TOPG  Turnovers Per Game             NaN\n",
            "A/TO  Assists Per Turnover           NaN\n",
            "Player                        Tyus Jones\n",
            "Position                              PG\n",
            "Team                                 MEM\n",
            "Name: 2, dtype: object\n",
            "Player and Team columns:\n",
            "              Player Team\n",
            "0       George Hill  MIL\n",
            "1  Danuel House Jr.  PHI\n",
            "2        Tyus Jones  MEM\n",
            "3       Moses Moody   GS\n",
            "4      Derrick Rose   NY\n"
          ]
        }
      ]
    },
    {
      "cell_type": "code",
      "source": [
        "#Universal Functions with Index Preservation\n",
        "# Adding 10 to assists using a ufunc\n",
        "df['Adjusted_Assists'] = df['Assists'].fillna(0) + 10\n",
        "print(df[['Assists', 'Adjusted_Assists']].head())\n"
      ],
      "metadata": {
        "colab": {
          "base_uri": "https://localhost:8080/"
        },
        "id": "9GRdd81k-8ns",
        "outputId": "916699d9-3a90-4a19-9bb3-3ac3990b3898"
      },
      "execution_count": null,
      "outputs": [
        {
          "output_type": "stream",
          "name": "stdout",
          "text": [
            "   Assists  Adjusted_Assists\n",
            "0      NaN              10.0\n",
            "1      NaN              10.0\n",
            "2      NaN              10.0\n",
            "3      NaN              10.0\n",
            "4      NaN              10.0\n"
          ]
        }
      ]
    },
    {
      "cell_type": "code",
      "source": [
        "#Index Alignment\n",
        "# Aligning two Series by index\n",
        "assists = df['Assists'].fillna(0)\n",
        "turnovers = df['Turnovers'].fillna(1)\n",
        "\n",
        "assist_to_turnover = assists / turnovers\n",
        "print(\"A/TO ratio:\\n\", assist_to_turnover.head())\n"
      ],
      "metadata": {
        "colab": {
          "base_uri": "https://localhost:8080/"
        },
        "id": "I2Couhbg_BZK",
        "outputId": "a1d87686-f498-4cca-8060-fe0e8b2d38d1"
      },
      "execution_count": null,
      "outputs": [
        {
          "output_type": "stream",
          "name": "stdout",
          "text": [
            "A/TO ratio:\n",
            " 0    0.0\n",
            "1    0.0\n",
            "2    0.0\n",
            "3    0.0\n",
            "4    0.0\n",
            "dtype: float64\n"
          ]
        }
      ]
    },
    {
      "cell_type": "code",
      "source": [
        "#Operations Between Series and DataFrames\n",
        "# Subtract mean of assists from all values\n",
        "df['Assist_Deviation'] = df['Assists'] - df['Assists'].mean()\n",
        "print(df[['Player', 'Assist_Deviation']].head())\n"
      ],
      "metadata": {
        "colab": {
          "base_uri": "https://localhost:8080/"
        },
        "id": "pE-li8OR_OTl",
        "outputId": "ed9fe65f-c335-47b7-8bde-74534240b37c"
      },
      "execution_count": null,
      "outputs": [
        {
          "output_type": "stream",
          "name": "stdout",
          "text": [
            "             Player  Assist_Deviation\n",
            "0       George Hill               NaN\n",
            "1  Danuel House Jr.               NaN\n",
            "2        Tyus Jones               NaN\n",
            "3       Moses Moody               NaN\n",
            "4      Derrick Rose               NaN\n"
          ]
        }
      ]
    },
    {
      "cell_type": "code",
      "source": [
        "#Handling Missing Data\n",
        "# Check for nulls\n",
        "print(df.isnull().sum())\n",
        "\n",
        "# Fill missing assists with 0\n",
        "df['Assists'].fillna(0, inplace=True)\n"
      ],
      "metadata": {
        "colab": {
          "base_uri": "https://localhost:8080/"
        },
        "id": "IVsEEoPR_Y7U",
        "outputId": "2b7ad907-bc0a-4043-9320-877e781e7b31"
      },
      "execution_count": null,
      "outputs": [
        {
          "output_type": "stream",
          "name": "stdout",
          "text": [
            "Unnamed: 0                      0\n",
            "GP  Games played                0\n",
            "GS  Games started               0\n",
            "MPG  Minutes Per Game         250\n",
            "OREB  Offensive Rebounds      250\n",
            "DREB  Defensive Rebounds      250\n",
            "REB  Total Rebounds           250\n",
            "RPG  Rebounds Per Game        250\n",
            "Assists                        29\n",
            "APG  Assists Per Game          29\n",
            "Turnovers                      29\n",
            "TOPG  Turnovers Per Game       29\n",
            "A/TO  Assists Per Turnover     29\n",
            "Player                          0\n",
            "Position                        0\n",
            "Team                            0\n",
            "Adjusted_Assists                0\n",
            "Assist_Deviation               29\n",
            "dtype: int64\n"
          ]
        },
        {
          "output_type": "stream",
          "name": "stderr",
          "text": [
            "<ipython-input-37-cb5479a41725>:6: FutureWarning: A value is trying to be set on a copy of a DataFrame or Series through chained assignment using an inplace method.\n",
            "The behavior will change in pandas 3.0. This inplace method will never work because the intermediate object on which we are setting values always behaves as a copy.\n",
            "\n",
            "For example, when doing 'df[col].method(value, inplace=True)', try using 'df.method({col: value}, inplace=True)' or df[col] = df[col].method(value) instead, to perform the operation inplace on the original object.\n",
            "\n",
            "\n",
            "  df['Assists'].fillna(0, inplace=True)\n"
          ]
        }
      ]
    },
    {
      "cell_type": "code",
      "source": [
        "#Operating on Null Values\n",
        "# Drop rows with any nulls\n",
        "df_cleaned = df.dropna()\n",
        "print(\"Shape after dropping nulls:\", df_cleaned.shape)\n",
        "\n",
        "# Replace nulls in 'Turnovers' with column mean\n",
        "df['Turnovers'].fillna(df['Turnovers'].mean(), inplace=True)\n"
      ],
      "metadata": {
        "colab": {
          "base_uri": "https://localhost:8080/"
        },
        "id": "5HEtLMEH_fQS",
        "outputId": "d4883890-20bc-4d69-f158-474b3a66e398"
      },
      "execution_count": null,
      "outputs": [
        {
          "output_type": "stream",
          "name": "stdout",
          "text": [
            "Shape after dropping nulls: (0, 18)\n"
          ]
        },
        {
          "output_type": "stream",
          "name": "stderr",
          "text": [
            "<ipython-input-38-a625d63297b7>:7: FutureWarning: A value is trying to be set on a copy of a DataFrame or Series through chained assignment using an inplace method.\n",
            "The behavior will change in pandas 3.0. This inplace method will never work because the intermediate object on which we are setting values always behaves as a copy.\n",
            "\n",
            "For example, when doing 'df[col].method(value, inplace=True)', try using 'df.method({col: value}, inplace=True)' or df[col] = df[col].method(value) instead, to perform the operation inplace on the original object.\n",
            "\n",
            "\n",
            "  df['Turnovers'].fillna(df['Turnovers'].mean(), inplace=True)\n"
          ]
        }
      ]
    },
    {
      "cell_type": "code",
      "source": [
        "#Hierarchical Indexing\n",
        "# Create a multi-index from Team and Position\n",
        "df.set_index(['Team', 'Position'], inplace=True)\n",
        "print(df.head())\n",
        "\n",
        "# Reset back to default index if needed\n",
        "df.reset_index(inplace=True)\n"
      ],
      "metadata": {
        "colab": {
          "base_uri": "https://localhost:8080/"
        },
        "id": "M9-fNCbc_tEZ",
        "outputId": "3f3ebd35-a175-4fbd-fab2-43d832426cae"
      },
      "execution_count": null,
      "outputs": [
        {
          "output_type": "stream",
          "name": "stdout",
          "text": [
            "               Unnamed: 0  GP  Games played  GS  Games started  \\\n",
            "Team Position                                                    \n",
            "MIL  PG                 0                19                  0   \n",
            "PHI  SF                 1                19                  2   \n",
            "MEM  PG                 2                20                  3   \n",
            "GS   SF                 3                18                  1   \n",
            "NY   PG                 4                19                  0   \n",
            "\n",
            "               MPG  Minutes Per Game  OREB  Offensive Rebounds  \\\n",
            "Team Position                                                    \n",
            "MIL  PG                         21.3                       6.0   \n",
            "PHI  SF                         18.1                       4.0   \n",
            "MEM  PG                         23.6                       6.0   \n",
            "GS   SF                         14.8                       5.0   \n",
            "NY   PG                         13.7                       8.0   \n",
            "\n",
            "               DREB  Defensive Rebounds  REB  Total Rebounds  \\\n",
            "Team Position                                                  \n",
            "MIL  PG                            31.0                 37.0   \n",
            "PHI  SF                            31.0                 35.0   \n",
            "MEM  PG                            30.0                 36.0   \n",
            "GS   SF                            28.0                 33.0   \n",
            "NY   PG                            26.0                 34.0   \n",
            "\n",
            "               RPG  Rebounds Per Game  Assists  APG  Assists Per Game  \\\n",
            "Team Position                                                           \n",
            "MIL  PG                           1.9      0.0                    NaN   \n",
            "PHI  SF                           1.8      0.0                    NaN   \n",
            "MEM  PG                           1.8      0.0                    NaN   \n",
            "GS   SF                           1.8      0.0                    NaN   \n",
            "NY   PG                           1.8      0.0                    NaN   \n",
            "\n",
            "               Turnovers  TOPG  Turnovers Per Game  \\\n",
            "Team Position                                        \n",
            "MIL  PG           29.092                       NaN   \n",
            "PHI  SF           29.092                       NaN   \n",
            "MEM  PG           29.092                       NaN   \n",
            "GS   SF           29.092                       NaN   \n",
            "NY   PG           29.092                       NaN   \n",
            "\n",
            "               A/TO  Assists Per Turnover            Player  Adjusted_Assists  \\\n",
            "Team Position                                                                   \n",
            "MIL  PG                               NaN       George Hill              10.0   \n",
            "PHI  SF                               NaN  Danuel House Jr.              10.0   \n",
            "MEM  PG                               NaN        Tyus Jones              10.0   \n",
            "GS   SF                               NaN       Moses Moody              10.0   \n",
            "NY   PG                               NaN      Derrick Rose              10.0   \n",
            "\n",
            "               Assist_Deviation  \n",
            "Team Position                    \n",
            "MIL  PG                     NaN  \n",
            "PHI  SF                     NaN  \n",
            "MEM  PG                     NaN  \n",
            "GS   SF                     NaN  \n",
            "NY   PG                     NaN  \n"
          ]
        }
      ]
    },
    {
      "cell_type": "code",
      "source": [
        "#UNIT III: Combining & Aggregating"
      ],
      "metadata": {
        "id": "0x0vnIDO_0Az"
      },
      "execution_count": null,
      "outputs": []
    },
    {
      "cell_type": "code",
      "source": [
        "#Concatenation\n",
        "import pandas as pd\n",
        "\n",
        "df = pd.read_csv(\"/assists-turnovers (1).csv\")\n",
        "df.columns = df.columns.str.strip()\n",
        "df = df.rename(columns={'AST  Total Assists': 'Assists', 'TO  Turnovers': 'Turnovers'})\n",
        "\n",
        "# Create a copy to simulate multiple data sources\n",
        "df_copy = df.copy()\n",
        "\n",
        "# Concatenate vertically (stack one after another)\n",
        "concat_df = pd.concat([df, df_copy], ignore_index=True)\n",
        "print(\"Shape after concat:\", concat_df.shape)\n"
      ],
      "metadata": {
        "colab": {
          "base_uri": "https://localhost:8080/"
        },
        "id": "fsaFt4ps_7x7",
        "outputId": "f4814514-750c-49e4-f8df-a234ab11dbe9"
      },
      "execution_count": null,
      "outputs": [
        {
          "output_type": "stream",
          "name": "stdout",
          "text": [
            "Shape after concat: (558, 16)\n"
          ]
        }
      ]
    },
    {
      "cell_type": "code",
      "source": [
        "#merge\n",
        "# Simulate merge using a DataFrame with player & team\n",
        "teams_df = df[['Player', 'Team']].copy()\n",
        "teams_df['League'] = 'NBA'\n",
        "\n",
        "merged_df = pd.merge(df, teams_df, on=['Player', 'Team'])\n",
        "print(\"Merged DataFrame:\\n\", merged_df[['Player', 'Team', 'League']].head())\n"
      ],
      "metadata": {
        "colab": {
          "base_uri": "https://localhost:8080/"
        },
        "id": "RPBNqLXCAfRX",
        "outputId": "e1c6359f-c52e-4bf3-e6a3-ffb0f9c4fe53"
      },
      "execution_count": null,
      "outputs": [
        {
          "output_type": "stream",
          "name": "stdout",
          "text": [
            "Merged DataFrame:\n",
            "              Player Team League\n",
            "0       George Hill  MIL    NBA\n",
            "1       George Hill  MIL    NBA\n",
            "2  Danuel House Jr.  PHI    NBA\n",
            "3  Danuel House Jr.  PHI    NBA\n",
            "4        Tyus Jones  MEM    NBA\n"
          ]
        }
      ]
    },
    {
      "cell_type": "code",
      "source": [
        "#join\n",
        "# Create two DataFrames with the same index\n",
        "df1 = df[['Player', 'Assists']].set_index('Player')\n",
        "df2 = df[['Player', 'Turnovers']].set_index('Player')\n",
        "\n",
        "joined_df = df1.join(df2)\n",
        "print(\"Joined DataFrame:\\n\", joined_df.head())\n"
      ],
      "metadata": {
        "colab": {
          "base_uri": "https://localhost:8080/"
        },
        "id": "bELkE0gbAjRp",
        "outputId": "473fec21-b32f-4c25-aae2-37e9b85b8c23"
      },
      "execution_count": null,
      "outputs": [
        {
          "output_type": "stream",
          "name": "stdout",
          "text": [
            "Joined DataFrame:\n",
            "                   Assists  Turnovers\n",
            "Player                              \n",
            "George Hill           NaN        NaN\n",
            "George Hill           NaN       14.0\n",
            "Danuel House Jr.      NaN        NaN\n",
            "Danuel House Jr.      NaN       11.0\n",
            "Tyus Jones            NaN        NaN\n"
          ]
        }
      ]
    },
    {
      "cell_type": "code",
      "source": [
        "# Inner Join\n",
        "merged_inner = pd.merge(df1, df2, on='Player', how='inner')\n"
      ],
      "metadata": {
        "id": "2kEdEMFwBJY2"
      },
      "execution_count": null,
      "outputs": []
    },
    {
      "cell_type": "code",
      "source": [
        "#Left Join\n",
        "merged_left = pd.merge(df1, df2, on='Player', how='left')\n"
      ],
      "metadata": {
        "id": "zJsb_4GDBNgg"
      },
      "execution_count": null,
      "outputs": []
    },
    {
      "cell_type": "code",
      "source": [
        "#Right Join\n",
        "merged_right = pd.merge(df1, df2, on='Player', how='right')\n"
      ],
      "metadata": {
        "id": "WtGi3Za6BRg5"
      },
      "execution_count": null,
      "outputs": []
    },
    {
      "cell_type": "code",
      "source": [
        "#Outer Join (Full Join)\n",
        "merged_outer = pd.merge(df1, df2, on='Player', how='outer')\n"
      ],
      "metadata": {
        "id": "aKLT5vCeBV5P"
      },
      "execution_count": null,
      "outputs": []
    },
    {
      "cell_type": "code",
      "source": [
        "#Aggregation with GroupBy\n",
        "# Total assists by team\n",
        "assists_by_team = df.groupby('Team')['Assists'].sum()\n",
        "print(\"Total assists by team:\\n\", assists_by_team)\n",
        "\n",
        "# Mean turnovers by team\n",
        "mean_turnovers = df.groupby('Team')['Turnovers'].mean()\n",
        "print(\"Mean turnovers by team:\\n\", mean_turnovers)\n"
      ],
      "metadata": {
        "colab": {
          "base_uri": "https://localhost:8080/"
        },
        "id": "md6pdHdTAnk5",
        "outputId": "d3b85bb0-9b40-4910-9ca1-08303e5c2f9e"
      },
      "execution_count": null,
      "outputs": [
        {
          "output_type": "stream",
          "name": "stdout",
          "text": [
            "Total assists by team:\n",
            " Team\n",
            "ATL    484.0\n",
            "BKN    451.0\n",
            "BOS    544.0\n",
            "CHA    373.0\n",
            "CHI    460.0\n",
            "CLE    457.0\n",
            "DAL    391.0\n",
            "DEN    477.0\n",
            "DET    336.0\n",
            "GS     562.0\n",
            "HOU    404.0\n",
            "IND    520.0\n",
            "LAC    466.0\n",
            "LAL    339.0\n",
            "MEM    396.0\n",
            "MIA    353.0\n",
            "MIL    441.0\n",
            "MIN    532.0\n",
            "NO     512.0\n",
            "NY     437.0\n",
            "OKC    478.0\n",
            "ORL    269.0\n",
            "PHI    302.0\n",
            "PHO    400.0\n",
            "POR    372.0\n",
            "SA     475.0\n",
            "SAC    515.0\n",
            "TOR    305.0\n",
            "UTA    593.0\n",
            "WAS    423.0\n",
            "Name: Assists, dtype: float64\n",
            "Mean turnovers by team:\n",
            " Team\n",
            "ATL    26.300000\n",
            "BKN    29.250000\n",
            "BOS    26.666667\n",
            "CHA    27.500000\n",
            "CHI    29.444444\n",
            "CLE    32.375000\n",
            "DAL    26.625000\n",
            "DEN    25.888889\n",
            "DET    31.833333\n",
            "GS     35.625000\n",
            "HOU    35.333333\n",
            "IND    30.222222\n",
            "LAC    34.000000\n",
            "LAL    26.500000\n",
            "MEM    26.750000\n",
            "MIA    29.142857\n",
            "MIL    29.625000\n",
            "MIN    35.111111\n",
            "NO     26.300000\n",
            "NY     29.375000\n",
            "OKC    23.909091\n",
            "ORL    26.500000\n",
            "PHI    24.142857\n",
            "PHO    25.625000\n",
            "POR    31.571429\n",
            "SA     29.111111\n",
            "SAC    26.800000\n",
            "TOR    26.666667\n",
            "UTA    35.222222\n",
            "WAS    30.857143\n",
            "Name: Turnovers, dtype: float64\n"
          ]
        }
      ]
    },
    {
      "cell_type": "code",
      "source": [
        "#Multiple Aggregations\n",
        "# Aggregating assists and turnovers\n",
        "agg_stats = df.groupby('Team')[['Assists', 'Turnovers']].agg(['sum', 'mean'])\n",
        "print(\"Aggregated stats:\\n\", agg_stats)\n"
      ],
      "metadata": {
        "colab": {
          "base_uri": "https://localhost:8080/"
        },
        "id": "gSyr-ew-As2i",
        "outputId": "a119f92a-d133-4210-cc5c-1424271aa223"
      },
      "execution_count": null,
      "outputs": [
        {
          "output_type": "stream",
          "name": "stdout",
          "text": [
            "Aggregated stats:\n",
            "      Assists            Turnovers           \n",
            "         sum       mean       sum       mean\n",
            "Team                                        \n",
            "ATL    484.0  48.400000     263.0  26.300000\n",
            "BKN    451.0  56.375000     234.0  29.250000\n",
            "BOS    544.0  60.444444     240.0  26.666667\n",
            "CHA    373.0  46.625000     220.0  27.500000\n",
            "CHI    460.0  51.111111     265.0  29.444444\n",
            "CLE    457.0  57.125000     259.0  32.375000\n",
            "DAL    391.0  48.875000     213.0  26.625000\n",
            "DEN    477.0  53.000000     233.0  25.888889\n",
            "DET    336.0  56.000000     191.0  31.833333\n",
            "GS     562.0  70.250000     285.0  35.625000\n",
            "HOU    404.0  44.888889     318.0  35.333333\n",
            "IND    520.0  57.777778     272.0  30.222222\n",
            "LAC    466.0  51.777778     306.0  34.000000\n",
            "LAL    339.0  42.375000     212.0  26.500000\n",
            "MEM    396.0  49.500000     214.0  26.750000\n",
            "MIA    353.0  50.428571     204.0  29.142857\n",
            "MIL    441.0  55.125000     237.0  29.625000\n",
            "MIN    532.0  59.111111     316.0  35.111111\n",
            "NO     512.0  51.200000     263.0  26.300000\n",
            "NY     437.0  54.625000     235.0  29.375000\n",
            "OKC    478.0  43.454545     263.0  23.909091\n",
            "ORL    269.0  33.625000     212.0  26.500000\n",
            "PHI    302.0  43.142857     169.0  24.142857\n",
            "PHO    400.0  50.000000     205.0  25.625000\n",
            "POR    372.0  53.142857     221.0  31.571429\n",
            "SA     475.0  52.777778     262.0  29.111111\n",
            "SAC    515.0  51.500000     268.0  26.800000\n",
            "TOR    305.0  50.833333     160.0  26.666667\n",
            "UTA    593.0  65.888889     317.0  35.222222\n",
            "WAS    423.0  60.428571     216.0  30.857143\n"
          ]
        }
      ]
    },
    {
      "cell_type": "code",
      "source": [
        "#Pivot Table\n",
        "# Pivot: Mean assists per team\n",
        "pivot = df.pivot_table(values='Assists', index='Team', aggfunc='mean')\n",
        "print(\"Pivot Table (Assists):\\n\", pivot.head())\n"
      ],
      "metadata": {
        "colab": {
          "base_uri": "https://localhost:8080/"
        },
        "id": "a8bTeSWoAzSy",
        "outputId": "948402b6-805a-4245-ff05-7251d2043ec8"
      },
      "execution_count": null,
      "outputs": [
        {
          "output_type": "stream",
          "name": "stdout",
          "text": [
            "Pivot Table (Assists):\n",
            "         Assists\n",
            "Team           \n",
            "ATL   48.400000\n",
            "BKN   56.375000\n",
            "BOS   60.444444\n",
            "CHA   46.625000\n",
            "CHI   51.111111\n"
          ]
        }
      ]
    },
    {
      "cell_type": "code",
      "source": [
        "#Pivot Table with Multiple Aggregations\n",
        "pivot_multi = df.pivot_table(values=['Assists', 'Turnovers'], index='Team', aggfunc=['mean', 'sum'])\n",
        "print(\"Pivot Table (Multi):\\n\", pivot_multi.head())\n"
      ],
      "metadata": {
        "colab": {
          "base_uri": "https://localhost:8080/"
        },
        "id": "pX_MDs_RA6P-",
        "outputId": "af26791a-a847-4fcf-98a7-bc96eb1b8981"
      },
      "execution_count": null,
      "outputs": [
        {
          "output_type": "stream",
          "name": "stdout",
          "text": [
            "Pivot Table (Multi):\n",
            "            mean                sum          \n",
            "        Assists  Turnovers Assists Turnovers\n",
            "Team                                        \n",
            "ATL   48.400000  26.300000   484.0     263.0\n",
            "BKN   56.375000  29.250000   451.0     234.0\n",
            "BOS   60.444444  26.666667   544.0     240.0\n",
            "CHA   46.625000  27.500000   373.0     220.0\n",
            "CHI   51.111111  29.444444   460.0     265.0\n"
          ]
        }
      ]
    },
    {
      "cell_type": "code",
      "source": [],
      "metadata": {
        "id": "UKehMUM5A90o"
      },
      "execution_count": null,
      "outputs": []
    }
  ]
}